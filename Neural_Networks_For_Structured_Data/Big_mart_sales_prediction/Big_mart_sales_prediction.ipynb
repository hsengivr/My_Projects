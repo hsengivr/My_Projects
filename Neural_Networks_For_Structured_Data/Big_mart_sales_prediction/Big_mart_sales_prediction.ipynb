{
 "cells": [
  {
   "cell_type": "markdown",
   "id": "dd606261",
   "metadata": {},
   "source": [
    "### Big Mart Sales Prediction\n",
    "\n",
    "- [Big Mart Sales Prediction](https://datahack.analyticsvidhya.com/contest/big-mart-sales-prediction/#ProblemStatement)"
   ]
  },
  {
   "cell_type": "code",
   "execution_count": 140,
   "id": "4616833b",
   "metadata": {},
   "outputs": [],
   "source": [
    "import tensorflow as tf\n",
    "from tensorflow.keras.layers import ReLU, Dense, Input\n",
    "from tensorflow.keras.models import Model"
   ]
  },
  {
   "cell_type": "code",
   "execution_count": 141,
   "id": "47e4029a",
   "metadata": {},
   "outputs": [],
   "source": [
    "import numpy as np\n",
    "import pandas as pd\n",
    "import matplotlib.pyplot as plt\n",
    "from sklearn.model_selection import train_test_split\n",
    "from sklearn.metrics import accuracy_score\n",
    "%matplotlib inline"
   ]
  },
  {
   "cell_type": "markdown",
   "id": "03912aaa",
   "metadata": {},
   "source": [
    "### Read Data"
   ]
  },
  {
   "cell_type": "code",
   "execution_count": 142,
   "id": "bb3b2161",
   "metadata": {},
   "outputs": [],
   "source": [
    "folder_path = 'C:/Users/Home/Desktop/05_Fundamentals_of_deep_learning/'\n",
    "\n",
    "train_data_path = folder_path + 'train.csv'\n",
    "test_data_path = folder_path + 'test.csv'"
   ]
  },
  {
   "cell_type": "code",
   "execution_count": 196,
   "id": "09bbf68c",
   "metadata": {},
   "outputs": [],
   "source": [
    "train_data = pd.read_csv(train_data_path)\n",
    "test_data = pd.read_csv(test_data_path)"
   ]
  },
  {
   "cell_type": "code",
   "execution_count": 144,
   "id": "ba191ae9",
   "metadata": {},
   "outputs": [
    {
     "data": {
      "text/html": [
       "<div>\n",
       "<style scoped>\n",
       "    .dataframe tbody tr th:only-of-type {\n",
       "        vertical-align: middle;\n",
       "    }\n",
       "\n",
       "    .dataframe tbody tr th {\n",
       "        vertical-align: top;\n",
       "    }\n",
       "\n",
       "    .dataframe thead th {\n",
       "        text-align: right;\n",
       "    }\n",
       "</style>\n",
       "<table border=\"1\" class=\"dataframe\">\n",
       "  <thead>\n",
       "    <tr style=\"text-align: right;\">\n",
       "      <th></th>\n",
       "      <th>Item_Identifier</th>\n",
       "      <th>Item_Weight</th>\n",
       "      <th>Item_Fat_Content</th>\n",
       "      <th>Item_Visibility</th>\n",
       "      <th>Item_Type</th>\n",
       "      <th>Item_MRP</th>\n",
       "      <th>Outlet_Identifier</th>\n",
       "      <th>Outlet_Establishment_Year</th>\n",
       "      <th>Outlet_Size</th>\n",
       "      <th>Outlet_Location_Type</th>\n",
       "      <th>Outlet_Type</th>\n",
       "      <th>Item_Outlet_Sales</th>\n",
       "    </tr>\n",
       "  </thead>\n",
       "  <tbody>\n",
       "    <tr>\n",
       "      <th>0</th>\n",
       "      <td>FDA15</td>\n",
       "      <td>9.30</td>\n",
       "      <td>Low Fat</td>\n",
       "      <td>0.016047</td>\n",
       "      <td>Dairy</td>\n",
       "      <td>249.8092</td>\n",
       "      <td>OUT049</td>\n",
       "      <td>1999</td>\n",
       "      <td>Medium</td>\n",
       "      <td>Tier 1</td>\n",
       "      <td>Supermarket Type1</td>\n",
       "      <td>3735.1380</td>\n",
       "    </tr>\n",
       "    <tr>\n",
       "      <th>1</th>\n",
       "      <td>DRC01</td>\n",
       "      <td>5.92</td>\n",
       "      <td>Regular</td>\n",
       "      <td>0.019278</td>\n",
       "      <td>Soft Drinks</td>\n",
       "      <td>48.2692</td>\n",
       "      <td>OUT018</td>\n",
       "      <td>2009</td>\n",
       "      <td>Medium</td>\n",
       "      <td>Tier 3</td>\n",
       "      <td>Supermarket Type2</td>\n",
       "      <td>443.4228</td>\n",
       "    </tr>\n",
       "    <tr>\n",
       "      <th>2</th>\n",
       "      <td>FDN15</td>\n",
       "      <td>17.50</td>\n",
       "      <td>Low Fat</td>\n",
       "      <td>0.016760</td>\n",
       "      <td>Meat</td>\n",
       "      <td>141.6180</td>\n",
       "      <td>OUT049</td>\n",
       "      <td>1999</td>\n",
       "      <td>Medium</td>\n",
       "      <td>Tier 1</td>\n",
       "      <td>Supermarket Type1</td>\n",
       "      <td>2097.2700</td>\n",
       "    </tr>\n",
       "    <tr>\n",
       "      <th>3</th>\n",
       "      <td>FDX07</td>\n",
       "      <td>19.20</td>\n",
       "      <td>Regular</td>\n",
       "      <td>0.000000</td>\n",
       "      <td>Fruits and Vegetables</td>\n",
       "      <td>182.0950</td>\n",
       "      <td>OUT010</td>\n",
       "      <td>1998</td>\n",
       "      <td>NaN</td>\n",
       "      <td>Tier 3</td>\n",
       "      <td>Grocery Store</td>\n",
       "      <td>732.3800</td>\n",
       "    </tr>\n",
       "    <tr>\n",
       "      <th>4</th>\n",
       "      <td>NCD19</td>\n",
       "      <td>8.93</td>\n",
       "      <td>Low Fat</td>\n",
       "      <td>0.000000</td>\n",
       "      <td>Household</td>\n",
       "      <td>53.8614</td>\n",
       "      <td>OUT013</td>\n",
       "      <td>1987</td>\n",
       "      <td>High</td>\n",
       "      <td>Tier 3</td>\n",
       "      <td>Supermarket Type1</td>\n",
       "      <td>994.7052</td>\n",
       "    </tr>\n",
       "  </tbody>\n",
       "</table>\n",
       "</div>"
      ],
      "text/plain": [
       "  Item_Identifier  Item_Weight Item_Fat_Content  Item_Visibility  \\\n",
       "0           FDA15         9.30          Low Fat         0.016047   \n",
       "1           DRC01         5.92          Regular         0.019278   \n",
       "2           FDN15        17.50          Low Fat         0.016760   \n",
       "3           FDX07        19.20          Regular         0.000000   \n",
       "4           NCD19         8.93          Low Fat         0.000000   \n",
       "\n",
       "               Item_Type  Item_MRP Outlet_Identifier  \\\n",
       "0                  Dairy  249.8092            OUT049   \n",
       "1            Soft Drinks   48.2692            OUT018   \n",
       "2                   Meat  141.6180            OUT049   \n",
       "3  Fruits and Vegetables  182.0950            OUT010   \n",
       "4              Household   53.8614            OUT013   \n",
       "\n",
       "   Outlet_Establishment_Year Outlet_Size Outlet_Location_Type  \\\n",
       "0                       1999      Medium               Tier 1   \n",
       "1                       2009      Medium               Tier 3   \n",
       "2                       1999      Medium               Tier 1   \n",
       "3                       1998         NaN               Tier 3   \n",
       "4                       1987        High               Tier 3   \n",
       "\n",
       "         Outlet_Type  Item_Outlet_Sales  \n",
       "0  Supermarket Type1          3735.1380  \n",
       "1  Supermarket Type2           443.4228  \n",
       "2  Supermarket Type1          2097.2700  \n",
       "3      Grocery Store           732.3800  \n",
       "4  Supermarket Type1           994.7052  "
      ]
     },
     "execution_count": 144,
     "metadata": {},
     "output_type": "execute_result"
    }
   ],
   "source": [
    "train_data.head()"
   ]
  },
  {
   "cell_type": "code",
   "execution_count": 145,
   "id": "ba599915",
   "metadata": {},
   "outputs": [
    {
     "name": "stdout",
     "output_type": "stream",
     "text": [
      "Train data shape : (8523, 12)\n",
      "Test data shape : (5681, 11)\n"
     ]
    }
   ],
   "source": [
    "print(f'Train data shape : {train_data.shape}')\n",
    "print(f'Test data shape : {test_data.shape}')"
   ]
  },
  {
   "cell_type": "code",
   "execution_count": 146,
   "id": "52ba030c",
   "metadata": {},
   "outputs": [
    {
     "data": {
      "text/plain": [
       "Index(['Item_Identifier', 'Item_Weight', 'Item_Fat_Content', 'Item_Visibility',\n",
       "       'Item_Type', 'Item_MRP', 'Outlet_Identifier',\n",
       "       'Outlet_Establishment_Year', 'Outlet_Size', 'Outlet_Location_Type',\n",
       "       'Outlet_Type', 'Item_Outlet_Sales'],\n",
       "      dtype='object')"
      ]
     },
     "execution_count": 146,
     "metadata": {},
     "output_type": "execute_result"
    }
   ],
   "source": [
    "# list all columns in train data\n",
    "train_data.columns"
   ]
  },
  {
   "cell_type": "code",
   "execution_count": 147,
   "id": "6aadccf6",
   "metadata": {},
   "outputs": [
    {
     "data": {
      "text/plain": [
       "Item_Identifier                 0\n",
       "Item_Weight                  1463\n",
       "Item_Fat_Content                0\n",
       "Item_Visibility                 0\n",
       "Item_Type                       0\n",
       "Item_MRP                        0\n",
       "Outlet_Identifier               0\n",
       "Outlet_Establishment_Year       0\n",
       "Outlet_Size                  2410\n",
       "Outlet_Location_Type            0\n",
       "Outlet_Type                     0\n",
       "Item_Outlet_Sales               0\n",
       "dtype: int64"
      ]
     },
     "execution_count": 147,
     "metadata": {},
     "output_type": "execute_result"
    }
   ],
   "source": [
    "# check for missing values\n",
    "train_data.isnull().sum()"
   ]
  },
  {
   "cell_type": "code",
   "execution_count": 148,
   "id": "593d1bc3",
   "metadata": {},
   "outputs": [
    {
     "data": {
      "text/plain": [
       "Item_Identifier                 0\n",
       "Item_Weight                   976\n",
       "Item_Fat_Content                0\n",
       "Item_Visibility                 0\n",
       "Item_Type                       0\n",
       "Item_MRP                        0\n",
       "Outlet_Identifier               0\n",
       "Outlet_Establishment_Year       0\n",
       "Outlet_Size                  1606\n",
       "Outlet_Location_Type            0\n",
       "Outlet_Type                     0\n",
       "dtype: int64"
      ]
     },
     "execution_count": 148,
     "metadata": {},
     "output_type": "execute_result"
    }
   ],
   "source": [
    "test_data.isnull().sum()"
   ]
  },
  {
   "cell_type": "markdown",
   "id": "be300a0c",
   "metadata": {},
   "source": [
    "## Data Preprocessing"
   ]
  },
  {
   "cell_type": "markdown",
   "id": "482b3828",
   "metadata": {},
   "source": [
    "### Filling Missing Values"
   ]
  },
  {
   "cell_type": "code",
   "execution_count": 149,
   "id": "cb2da678",
   "metadata": {},
   "outputs": [
    {
     "name": "stdout",
     "output_type": "stream",
     "text": [
      "Mean of Item Weight : 12.857645184135976\n",
      "Median of Item Weight : 12.6\n"
     ]
    }
   ],
   "source": [
    "print(f\"Mean of Item Weight : {train_data['Item_Weight'].mean()}\")\n",
    "print(f\"Median of Item Weight : {train_data['Item_Weight'].median()}\")"
   ]
  },
  {
   "cell_type": "markdown",
   "id": "a6e5cf88",
   "metadata": {},
   "source": [
    "#### Continuous Values - Mean/Median"
   ]
  },
  {
   "cell_type": "code",
   "execution_count": 150,
   "id": "d3e8625b",
   "metadata": {},
   "outputs": [],
   "source": [
    "# Replace Nan values by mean/median for continuous variables\n",
    "# train_data['Item_Weight'].fillna(train_data['Item_Weight'].mean(), inplace=True)\n",
    "\n",
    "# f[col] = df[col].method(value)\n",
    "train_data['Item_Weight'] = train_data['Item_Weight'].fillna(train_data['Item_Weight'].mean())"
   ]
  },
  {
   "cell_type": "code",
   "execution_count": 151,
   "id": "ee7c7b9f",
   "metadata": {},
   "outputs": [
    {
     "data": {
      "text/plain": [
       "Item_Identifier                 0\n",
       "Item_Weight                     0\n",
       "Item_Fat_Content                0\n",
       "Item_Visibility                 0\n",
       "Item_Type                       0\n",
       "Item_MRP                        0\n",
       "Outlet_Identifier               0\n",
       "Outlet_Establishment_Year       0\n",
       "Outlet_Size                  2410\n",
       "Outlet_Location_Type            0\n",
       "Outlet_Type                     0\n",
       "Item_Outlet_Sales               0\n",
       "dtype: int64"
      ]
     },
     "execution_count": 151,
     "metadata": {},
     "output_type": "execute_result"
    }
   ],
   "source": [
    "train_data.isnull().sum()"
   ]
  },
  {
   "cell_type": "code",
   "execution_count": 152,
   "id": "1bc10de1",
   "metadata": {},
   "outputs": [],
   "source": [
    "# df.method({col: value}, inplace=True)\n",
    "test_data.fillna({'Item_Weight' : test_data['Item_Weight'].mean()}, inplace=True)"
   ]
  },
  {
   "cell_type": "code",
   "execution_count": 153,
   "id": "4fda498b",
   "metadata": {},
   "outputs": [
    {
     "data": {
      "text/plain": [
       "Item_Identifier                 0\n",
       "Item_Weight                     0\n",
       "Item_Fat_Content                0\n",
       "Item_Visibility                 0\n",
       "Item_Type                       0\n",
       "Item_MRP                        0\n",
       "Outlet_Identifier               0\n",
       "Outlet_Establishment_Year       0\n",
       "Outlet_Size                  1606\n",
       "Outlet_Location_Type            0\n",
       "Outlet_Type                     0\n",
       "dtype: int64"
      ]
     },
     "execution_count": 153,
     "metadata": {},
     "output_type": "execute_result"
    }
   ],
   "source": [
    "test_data.isnull().sum()"
   ]
  },
  {
   "cell_type": "markdown",
   "id": "31c34a13",
   "metadata": {},
   "source": [
    "#### Categorical Values - Mode"
   ]
  },
  {
   "cell_type": "code",
   "execution_count": 154,
   "id": "db3586cb",
   "metadata": {},
   "outputs": [],
   "source": [
    "# Replace Nan values by mode for categorical variables\n",
    "# train_data.fillna({'Outlet_Size' : train_data['Outlet_Size'].mode()}, inplace=True)\n",
    "train_data['Outlet_Size'] = train_data['Outlet_Size'].fillna(train_data['Outlet_Size'].mode()[0])"
   ]
  },
  {
   "cell_type": "code",
   "execution_count": 155,
   "id": "afd82592",
   "metadata": {},
   "outputs": [
    {
     "data": {
      "text/plain": [
       "Item_Identifier              0\n",
       "Item_Weight                  0\n",
       "Item_Fat_Content             0\n",
       "Item_Visibility              0\n",
       "Item_Type                    0\n",
       "Item_MRP                     0\n",
       "Outlet_Identifier            0\n",
       "Outlet_Establishment_Year    0\n",
       "Outlet_Size                  0\n",
       "Outlet_Location_Type         0\n",
       "Outlet_Type                  0\n",
       "Item_Outlet_Sales            0\n",
       "dtype: int64"
      ]
     },
     "execution_count": 155,
     "metadata": {},
     "output_type": "execute_result"
    }
   ],
   "source": [
    "train_data.isnull().sum()"
   ]
  },
  {
   "cell_type": "code",
   "execution_count": 156,
   "id": "0f68c6cc",
   "metadata": {},
   "outputs": [],
   "source": [
    "test_data.fillna({'Outlet_Size' : test_data['Outlet_Size'].mode()[0]}, inplace=True)"
   ]
  },
  {
   "cell_type": "code",
   "execution_count": 157,
   "id": "e7cd0e09",
   "metadata": {},
   "outputs": [
    {
     "data": {
      "text/plain": [
       "Item_Identifier              0\n",
       "Item_Weight                  0\n",
       "Item_Fat_Content             0\n",
       "Item_Visibility              0\n",
       "Item_Type                    0\n",
       "Item_MRP                     0\n",
       "Outlet_Identifier            0\n",
       "Outlet_Establishment_Year    0\n",
       "Outlet_Size                  0\n",
       "Outlet_Location_Type         0\n",
       "Outlet_Type                  0\n",
       "dtype: int64"
      ]
     },
     "execution_count": 157,
     "metadata": {},
     "output_type": "execute_result"
    }
   ],
   "source": [
    "test_data.isnull().sum()"
   ]
  },
  {
   "cell_type": "markdown",
   "id": "591123ea",
   "metadata": {},
   "source": [
    "### Converting Categorical Values to Numerical"
   ]
  },
  {
   "cell_type": "code",
   "execution_count": 158,
   "id": "1112d29f",
   "metadata": {},
   "outputs": [
    {
     "data": {
      "text/plain": [
       "Item_Identifier               object\n",
       "Item_Weight                  float64\n",
       "Item_Fat_Content              object\n",
       "Item_Visibility              float64\n",
       "Item_Type                     object\n",
       "Item_MRP                     float64\n",
       "Outlet_Identifier             object\n",
       "Outlet_Establishment_Year      int64\n",
       "Outlet_Size                   object\n",
       "Outlet_Location_Type          object\n",
       "Outlet_Type                   object\n",
       "Item_Outlet_Sales            float64\n",
       "dtype: object"
      ]
     },
     "execution_count": 158,
     "metadata": {},
     "output_type": "execute_result"
    }
   ],
   "source": [
    "train_data.dtypes"
   ]
  },
  {
   "cell_type": "markdown",
   "id": "517e9274",
   "metadata": {},
   "source": [
    "#### Item_Fat_Content    "
   ]
  },
  {
   "cell_type": "code",
   "execution_count": 159,
   "id": "94b450df",
   "metadata": {},
   "outputs": [],
   "source": [
    "train_data['Item_Fat_Content'] = train_data['Item_Fat_Content'].map({'Low Fat':0, 'Regular':1, 'low fat':0, 'LF':0,'reg':1})"
   ]
  },
  {
   "cell_type": "code",
   "execution_count": 160,
   "id": "eb3063b2",
   "metadata": {
    "scrolled": true
   },
   "outputs": [
    {
     "data": {
      "text/plain": [
       "Item_Fat_Content\n",
       "0    5517\n",
       "1    3006\n",
       "Name: count, dtype: int64"
      ]
     },
     "execution_count": 160,
     "metadata": {},
     "output_type": "execute_result"
    }
   ],
   "source": [
    "train_data['Item_Fat_Content'].value_counts()"
   ]
  },
  {
   "cell_type": "code",
   "execution_count": 161,
   "id": "15efb532",
   "metadata": {},
   "outputs": [],
   "source": [
    "test_data['Item_Fat_Content'] = test_data['Item_Fat_Content'].map({'Low Fat':0, 'Regular':1, 'low fat':0, 'LF':0,'reg':1})"
   ]
  },
  {
   "cell_type": "code",
   "execution_count": 162,
   "id": "d480e520",
   "metadata": {},
   "outputs": [
    {
     "data": {
      "text/plain": [
       "Item_Fat_Content\n",
       "0    3668\n",
       "1    2013\n",
       "Name: count, dtype: int64"
      ]
     },
     "execution_count": 162,
     "metadata": {},
     "output_type": "execute_result"
    }
   ],
   "source": [
    "test_data['Item_Fat_Content'].value_counts()"
   ]
  },
  {
   "cell_type": "code",
   "execution_count": 163,
   "id": "e0ffca67",
   "metadata": {},
   "outputs": [],
   "source": [
    "train_data['Item_Type'] = train_data['Item_Type'].map({\n",
    "    'Dairy':0, 'Soft Drinks':1, 'Meat':2, 'Fruits and Vegetables':3,\n",
    "    'Household':4, 'Baking Goods':5, 'Snack Foods':6, 'Frozen Foods':7,\n",
    "    'Breakfast':8, 'Health and Hygiene':9, 'Hard Drinks':10, 'Canned':11,\n",
    "    'Breads':12, 'Starchy Foods':13, 'Seafood':14, 'Others':15})"
   ]
  },
  {
   "cell_type": "code",
   "execution_count": 164,
   "id": "8ddab5c9",
   "metadata": {},
   "outputs": [],
   "source": [
    "test_data['Item_Type'] = test_data['Item_Type'].map({\n",
    "    'Dairy':0, 'Soft Drinks':1, 'Meat':2, 'Fruits and Vegetables':3,\n",
    "    'Household':4, 'Baking Goods':5, 'Snack Foods':6, 'Frozen Foods':7,\n",
    "    'Breakfast':8, 'Health and Hygiene':9, 'Hard Drinks':10, 'Canned':11,\n",
    "    'Breads':12, 'Starchy Foods':13, 'Seafood':14, 'Others':15})"
   ]
  },
  {
   "cell_type": "markdown",
   "id": "5a278138",
   "metadata": {},
   "source": [
    "#### Outlet_Size"
   ]
  },
  {
   "cell_type": "code",
   "execution_count": 165,
   "id": "5ffef899",
   "metadata": {},
   "outputs": [],
   "source": [
    "train_data['Outlet_Size'] = train_data['Outlet_Size'].map({'Small':0, 'Medium':1, 'High':2})"
   ]
  },
  {
   "cell_type": "code",
   "execution_count": 166,
   "id": "2dc683ad",
   "metadata": {},
   "outputs": [],
   "source": [
    "test_data['Outlet_Size'] = test_data['Outlet_Size'].map({'Small':0, 'Medium':1, 'High':2})"
   ]
  },
  {
   "cell_type": "markdown",
   "id": "febac97a",
   "metadata": {},
   "source": [
    "#### Outlet_Location_Type    "
   ]
  },
  {
   "cell_type": "code",
   "execution_count": 167,
   "id": "29f7058f",
   "metadata": {},
   "outputs": [],
   "source": [
    "train_data['Outlet_Location_Type'] = train_data['Outlet_Location_Type'].map({'Tier 1':1, 'Tier 2':2, 'Tier 3':3})"
   ]
  },
  {
   "cell_type": "code",
   "execution_count": 168,
   "id": "10bc71cc",
   "metadata": {},
   "outputs": [],
   "source": [
    "test_data['Outlet_Location_Type'] = test_data['Outlet_Location_Type'].map({'Tier 1':1, 'Tier 2':2, 'Tier 3':3})"
   ]
  },
  {
   "cell_type": "markdown",
   "id": "9d94f388",
   "metadata": {},
   "source": [
    "#### Outlet_Type       "
   ]
  },
  {
   "cell_type": "code",
   "execution_count": 169,
   "id": "83e11f7f",
   "metadata": {},
   "outputs": [],
   "source": [
    "train_data['Outlet_Type'] = train_data['Outlet_Type'].map({'Supermarket Type1':1, 'Supermarket Type2':2, \n",
    "                                                           'Grocery Store':4, 'Supermarket Type3':3})"
   ]
  },
  {
   "cell_type": "code",
   "execution_count": 170,
   "id": "1456c0fb",
   "metadata": {},
   "outputs": [],
   "source": [
    "test_data['Outlet_Type'] = test_data['Outlet_Type'].map({'Supermarket Type1':1, 'Supermarket Type2':2, \n",
    "                                                           'Grocery Store':4, 'Supermarket Type3':3})"
   ]
  },
  {
   "cell_type": "code",
   "execution_count": 171,
   "id": "20490069",
   "metadata": {},
   "outputs": [
    {
     "data": {
      "text/plain": [
       "Item_Identifier               object\n",
       "Item_Weight                  float64\n",
       "Item_Fat_Content               int64\n",
       "Item_Visibility              float64\n",
       "Item_Type                      int64\n",
       "Item_MRP                     float64\n",
       "Outlet_Identifier             object\n",
       "Outlet_Establishment_Year      int64\n",
       "Outlet_Size                    int64\n",
       "Outlet_Location_Type           int64\n",
       "Outlet_Type                    int64\n",
       "Item_Outlet_Sales            float64\n",
       "dtype: object"
      ]
     },
     "execution_count": 171,
     "metadata": {},
     "output_type": "execute_result"
    }
   ],
   "source": [
    "train_data.dtypes"
   ]
  },
  {
   "cell_type": "code",
   "execution_count": 172,
   "id": "716f4972",
   "metadata": {},
   "outputs": [
    {
     "data": {
      "text/plain": [
       "Item_Identifier               object\n",
       "Item_Weight                  float64\n",
       "Item_Fat_Content               int64\n",
       "Item_Visibility              float64\n",
       "Item_Type                      int64\n",
       "Item_MRP                     float64\n",
       "Outlet_Identifier             object\n",
       "Outlet_Establishment_Year      int64\n",
       "Outlet_Size                    int64\n",
       "Outlet_Location_Type           int64\n",
       "Outlet_Type                    int64\n",
       "dtype: object"
      ]
     },
     "execution_count": 172,
     "metadata": {},
     "output_type": "execute_result"
    }
   ],
   "source": [
    "test_data.dtypes"
   ]
  },
  {
   "cell_type": "code",
   "execution_count": 173,
   "id": "849b9b08",
   "metadata": {},
   "outputs": [],
   "source": [
    "train_data_1 = train_data"
   ]
  },
  {
   "cell_type": "code",
   "execution_count": 174,
   "id": "ea38cd6d",
   "metadata": {},
   "outputs": [],
   "source": [
    "train_data.drop(['Outlet_Establishment_Year','Outlet_Identifier','Item_Identifier'],axis=1,inplace=True)"
   ]
  },
  {
   "cell_type": "code",
   "execution_count": 175,
   "id": "ba0d7de5",
   "metadata": {},
   "outputs": [],
   "source": [
    "test_data.drop(['Outlet_Establishment_Year','Outlet_Identifier','Item_Identifier'],axis=1,inplace=True)"
   ]
  },
  {
   "cell_type": "code",
   "execution_count": 176,
   "id": "b1d566e8",
   "metadata": {},
   "outputs": [
    {
     "data": {
      "text/plain": [
       "Item_Weight             float64\n",
       "Item_Fat_Content          int64\n",
       "Item_Visibility         float64\n",
       "Item_Type                 int64\n",
       "Item_MRP                float64\n",
       "Outlet_Size               int64\n",
       "Outlet_Location_Type      int64\n",
       "Outlet_Type               int64\n",
       "Item_Outlet_Sales       float64\n",
       "dtype: object"
      ]
     },
     "execution_count": 176,
     "metadata": {},
     "output_type": "execute_result"
    }
   ],
   "source": [
    "train_data.dtypes"
   ]
  },
  {
   "cell_type": "markdown",
   "id": "1ed73090",
   "metadata": {},
   "source": [
    "### Bringing all the variables in range 0 to 1"
   ]
  },
  {
   "cell_type": "code",
   "execution_count": 110,
   "id": "bffd2e1a",
   "metadata": {},
   "outputs": [],
   "source": [
    "# # applying for loop to bring all the variables in range 0 to 1\n",
    "\n",
    "# for i in train_data.columns[:-1]:\n",
    "#     train_data[i] = (train_data[i] - train_data[i].min()) / (train_data[i].max() - train_data[i].min())"
   ]
  },
  {
   "cell_type": "code",
   "execution_count": 111,
   "id": "ae939929",
   "metadata": {},
   "outputs": [],
   "source": [
    "# for i in test_data.columns[:-1]:\n",
    "#     test_data[i] = (test_data[i] - test_data[i].min()) / (test_data[i].max() - test_data[i].min())"
   ]
  },
  {
   "cell_type": "code",
   "execution_count": 112,
   "id": "85ca1696",
   "metadata": {},
   "outputs": [
    {
     "data": {
      "text/html": [
       "<div>\n",
       "<style scoped>\n",
       "    .dataframe tbody tr th:only-of-type {\n",
       "        vertical-align: middle;\n",
       "    }\n",
       "\n",
       "    .dataframe tbody tr th {\n",
       "        vertical-align: top;\n",
       "    }\n",
       "\n",
       "    .dataframe thead th {\n",
       "        text-align: right;\n",
       "    }\n",
       "</style>\n",
       "<table border=\"1\" class=\"dataframe\">\n",
       "  <thead>\n",
       "    <tr style=\"text-align: right;\">\n",
       "      <th></th>\n",
       "      <th>Item_Weight</th>\n",
       "      <th>Item_Fat_Content</th>\n",
       "      <th>Item_Visibility</th>\n",
       "      <th>Item_Type</th>\n",
       "      <th>Item_MRP</th>\n",
       "      <th>Outlet_Size</th>\n",
       "      <th>Outlet_Location_Type</th>\n",
       "      <th>Outlet_Type</th>\n",
       "      <th>Item_Outlet_Sales</th>\n",
       "    </tr>\n",
       "  </thead>\n",
       "  <tbody>\n",
       "    <tr>\n",
       "      <th>0</th>\n",
       "      <td>0.282525</td>\n",
       "      <td>0.0</td>\n",
       "      <td>0.048866</td>\n",
       "      <td>0.000000</td>\n",
       "      <td>0.927507</td>\n",
       "      <td>0.5</td>\n",
       "      <td>0.0</td>\n",
       "      <td>0.000000</td>\n",
       "      <td>3735.1380</td>\n",
       "    </tr>\n",
       "    <tr>\n",
       "      <th>1</th>\n",
       "      <td>0.081274</td>\n",
       "      <td>1.0</td>\n",
       "      <td>0.058705</td>\n",
       "      <td>0.066667</td>\n",
       "      <td>0.072068</td>\n",
       "      <td>0.5</td>\n",
       "      <td>1.0</td>\n",
       "      <td>0.333333</td>\n",
       "      <td>443.4228</td>\n",
       "    </tr>\n",
       "    <tr>\n",
       "      <th>2</th>\n",
       "      <td>0.770765</td>\n",
       "      <td>0.0</td>\n",
       "      <td>0.051037</td>\n",
       "      <td>0.133333</td>\n",
       "      <td>0.468288</td>\n",
       "      <td>0.5</td>\n",
       "      <td>0.0</td>\n",
       "      <td>0.000000</td>\n",
       "      <td>2097.2700</td>\n",
       "    </tr>\n",
       "    <tr>\n",
       "      <th>3</th>\n",
       "      <td>0.871986</td>\n",
       "      <td>1.0</td>\n",
       "      <td>0.000000</td>\n",
       "      <td>0.200000</td>\n",
       "      <td>0.640093</td>\n",
       "      <td>0.5</td>\n",
       "      <td>1.0</td>\n",
       "      <td>1.000000</td>\n",
       "      <td>732.3800</td>\n",
       "    </tr>\n",
       "    <tr>\n",
       "      <th>4</th>\n",
       "      <td>0.260494</td>\n",
       "      <td>0.0</td>\n",
       "      <td>0.000000</td>\n",
       "      <td>0.266667</td>\n",
       "      <td>0.095805</td>\n",
       "      <td>1.0</td>\n",
       "      <td>1.0</td>\n",
       "      <td>0.000000</td>\n",
       "      <td>994.7052</td>\n",
       "    </tr>\n",
       "  </tbody>\n",
       "</table>\n",
       "</div>"
      ],
      "text/plain": [
       "   Item_Weight  Item_Fat_Content  Item_Visibility  Item_Type  Item_MRP  \\\n",
       "0     0.282525               0.0         0.048866   0.000000  0.927507   \n",
       "1     0.081274               1.0         0.058705   0.066667  0.072068   \n",
       "2     0.770765               0.0         0.051037   0.133333  0.468288   \n",
       "3     0.871986               1.0         0.000000   0.200000  0.640093   \n",
       "4     0.260494               0.0         0.000000   0.266667  0.095805   \n",
       "\n",
       "   Outlet_Size  Outlet_Location_Type  Outlet_Type  Item_Outlet_Sales  \n",
       "0          0.5                   0.0     0.000000          3735.1380  \n",
       "1          0.5                   1.0     0.333333           443.4228  \n",
       "2          0.5                   0.0     0.000000          2097.2700  \n",
       "3          0.5                   1.0     1.000000           732.3800  \n",
       "4          1.0                   1.0     0.000000           994.7052  "
      ]
     },
     "execution_count": 112,
     "metadata": {},
     "output_type": "execute_result"
    }
   ],
   "source": [
    "# # again looking at first five rows of pre-processed data\n",
    "# train_data.head()"
   ]
  },
  {
   "cell_type": "markdown",
   "id": "e68220fe",
   "metadata": {},
   "source": [
    "### Write preprocessed data to csv"
   ]
  },
  {
   "cell_type": "code",
   "execution_count": 113,
   "id": "ff874f74",
   "metadata": {},
   "outputs": [],
   "source": [
    "# saving the pre-processed data\n",
    "train_data.to_csv('big_mart_sales_train_data.csv', index=False)"
   ]
  },
  {
   "cell_type": "code",
   "execution_count": 114,
   "id": "7a1204b6",
   "metadata": {},
   "outputs": [],
   "source": [
    "# saving the pre-processed data\n",
    "test_data.to_csv('big_mart_sales_test_data.csv', index=False)"
   ]
  },
  {
   "cell_type": "markdown",
   "id": "e58ae0e9",
   "metadata": {},
   "source": [
    "### Split Data To X and Y"
   ]
  },
  {
   "cell_type": "code",
   "execution_count": 177,
   "id": "0b41d658",
   "metadata": {},
   "outputs": [],
   "source": [
    "# separating the independent and dependent variables\n",
    "\n",
    "# storing all the independent variables as X\n",
    "X = train_data.drop('Item_Outlet_Sales', axis=1)\n",
    "\n",
    "# storing the dependent variable as y\n",
    "y = train_data['Item_Outlet_Sales']"
   ]
  },
  {
   "cell_type": "code",
   "execution_count": 178,
   "id": "d21dd31d",
   "metadata": {},
   "outputs": [
    {
     "data": {
      "text/plain": [
       "((8523, 8), (8523,))"
      ]
     },
     "execution_count": 178,
     "metadata": {},
     "output_type": "execute_result"
    }
   ],
   "source": [
    "# shape of independent and dependent variables\n",
    "X.shape, y.shape"
   ]
  },
  {
   "cell_type": "markdown",
   "id": "e2aeecef",
   "metadata": {},
   "source": [
    "### Train and Val"
   ]
  },
  {
   "cell_type": "code",
   "execution_count": 179,
   "id": "02d8d9ee",
   "metadata": {},
   "outputs": [],
   "source": [
    "# Creating training and validation set\n",
    "\n",
    "X_train, X_val, y_train, y_val = train_test_split(X, y, random_state=10, test_size=0.2)"
   ]
  },
  {
   "cell_type": "markdown",
   "id": "66d79f72",
   "metadata": {},
   "source": [
    "### Defining the architecture of the model"
   ]
  },
  {
   "cell_type": "code",
   "execution_count": 180,
   "id": "5bb4ddaf",
   "metadata": {},
   "outputs": [],
   "source": [
    "import tensorflow as tf\n",
    "from tensorflow.keras.models import Sequential\n",
    "from tensorflow.keras.layers import InputLayer, Dense "
   ]
  },
  {
   "cell_type": "code",
   "execution_count": 181,
   "id": "357a3bbd",
   "metadata": {},
   "outputs": [
    {
     "data": {
      "text/plain": [
       "(6818, 8)"
      ]
     },
     "execution_count": 181,
     "metadata": {},
     "output_type": "execute_result"
    }
   ],
   "source": [
    "# number of input neurons\n",
    "X_train.shape"
   ]
  },
  {
   "cell_type": "code",
   "execution_count": 182,
   "id": "a05b3924",
   "metadata": {},
   "outputs": [
    {
     "data": {
      "text/plain": [
       "8"
      ]
     },
     "execution_count": 182,
     "metadata": {},
     "output_type": "execute_result"
    }
   ],
   "source": [
    "# number of features in the data\n",
    "X_train.shape[1]"
   ]
  },
  {
   "cell_type": "code",
   "execution_count": 183,
   "id": "904db6ac",
   "metadata": {},
   "outputs": [],
   "source": [
    "# defining input neurons\n",
    "input_neurons = X_train.shape[1]"
   ]
  },
  {
   "cell_type": "code",
   "execution_count": 184,
   "id": "d242a2b3",
   "metadata": {},
   "outputs": [],
   "source": [
    "# define number of output neurons\n",
    "output_neurons = 1"
   ]
  },
  {
   "cell_type": "code",
   "execution_count": 185,
   "id": "76b07531",
   "metadata": {},
   "outputs": [],
   "source": [
    "# define hidden layers and neuron in each layer\n",
    "number_of_hidden_layers = 2\n",
    "neuron_hidden_layer_1 = 30\n",
    "neuron_hidden_layer_2 = 20\n",
    "neuron_hidden_layer_3 = 10\n"
   ]
  },
  {
   "cell_type": "code",
   "execution_count": 186,
   "id": "8e196a03",
   "metadata": {},
   "outputs": [],
   "source": [
    "# defining the architecture of the model\n",
    "model = Sequential()\n",
    "model.add(InputLayer(input_shape=(input_neurons,)))\n",
    "model.add(Dense(units=neuron_hidden_layer_1, activation='relu'))\n",
    "model.add(Dense(units=neuron_hidden_layer_2, activation='relu'))\n",
    "model.add(Dense(units=neuron_hidden_layer_3, activation='relu'))\n",
    "model.add(Dense(units=output_neurons, activation='linear'))"
   ]
  },
  {
   "cell_type": "code",
   "execution_count": 187,
   "id": "f0bf0aae",
   "metadata": {},
   "outputs": [
    {
     "name": "stdout",
     "output_type": "stream",
     "text": [
      "Model: \"sequential_2\"\n",
      "_________________________________________________________________\n",
      " Layer (type)                Output Shape              Param #   \n",
      "=================================================================\n",
      " dense_6 (Dense)             (None, 30)                270       \n",
      "                                                                 \n",
      " dense_7 (Dense)             (None, 20)                620       \n",
      "                                                                 \n",
      " dense_8 (Dense)             (None, 10)                210       \n",
      "                                                                 \n",
      " dense_9 (Dense)             (None, 1)                 11        \n",
      "                                                                 \n",
      "=================================================================\n",
      "Total params: 1111 (4.34 KB)\n",
      "Trainable params: 1111 (4.34 KB)\n",
      "Non-trainable params: 0 (0.00 Byte)\n",
      "_________________________________________________________________\n"
     ]
    }
   ],
   "source": [
    "# summary of the model\n",
    "model.summary()"
   ]
  },
  {
   "cell_type": "markdown",
   "id": "d850f7e6",
   "metadata": {},
   "source": [
    "### Compile model"
   ]
  },
  {
   "cell_type": "code",
   "execution_count": 188,
   "id": "fa887263",
   "metadata": {},
   "outputs": [],
   "source": [
    "from tensorflow.keras import backend as K\n",
    "\n",
    "def root_mean_squared_error(y_true, y_pred):\n",
    "        return K.sqrt(K.mean(K.square(y_pred - y_true)))"
   ]
  },
  {
   "cell_type": "code",
   "execution_count": 189,
   "id": "d2e65e1a",
   "metadata": {},
   "outputs": [],
   "source": [
    "# rmse = tf.keras.metrics.RootMeanSquaredError()\n",
    "# model.compile(loss='mean_squared_error',optimizer='Adam',metrics=[rmse,'mae'])"
   ]
  },
  {
   "cell_type": "code",
   "execution_count": 190,
   "id": "a6701d83",
   "metadata": {},
   "outputs": [],
   "source": [
    "rmse = tf.keras.metrics.RootMeanSquaredError()\n",
    "model.compile(loss='mean_squared_error',optimizer='Adam',metrics=['mae','mape'])"
   ]
  },
  {
   "cell_type": "markdown",
   "id": "dee059a5",
   "metadata": {},
   "source": [
    "### Train Model"
   ]
  },
  {
   "cell_type": "code",
   "execution_count": 191,
   "id": "d679c37c",
   "metadata": {},
   "outputs": [
    {
     "name": "stdout",
     "output_type": "stream",
     "text": [
      "Epoch 1/150\n",
      "214/214 [==============================] - 2s 5ms/step - loss: 4733392.0000 - mae: 1588.7228 - mape: 100.7663 - val_loss: 1930889.1250 - val_mae: 1024.2982 - val_mape: 149.1224\n",
      "Epoch 2/150\n",
      "214/214 [==============================] - 1s 4ms/step - loss: 1996341.1250 - mae: 1041.1049 - mape: 150.1602 - val_loss: 1921535.0000 - val_mae: 1027.9578 - val_mape: 154.3257\n",
      "Epoch 3/150\n",
      "214/214 [==============================] - 1s 4ms/step - loss: 1991498.8750 - mae: 1040.5150 - mape: 148.4961 - val_loss: 1913631.2500 - val_mae: 1024.6820 - val_mape: 152.3615\n",
      "Epoch 4/150\n",
      "214/214 [==============================] - 1s 4ms/step - loss: 1984184.0000 - mae: 1037.5264 - mape: 147.5300 - val_loss: 1910266.6250 - val_mae: 1014.5217 - val_mape: 142.1468\n",
      "Epoch 5/150\n",
      "214/214 [==============================] - 1s 5ms/step - loss: 1979000.5000 - mae: 1034.9324 - mape: 145.2815 - val_loss: 1895572.3750 - val_mae: 1014.6719 - val_mape: 144.6156\n",
      "Epoch 6/150\n",
      "214/214 [==============================] - 1s 4ms/step - loss: 1970848.5000 - mae: 1032.6807 - mape: 142.9504 - val_loss: 1887943.3750 - val_mae: 1012.6050 - val_mape: 143.5431\n",
      "Epoch 7/150\n",
      "214/214 [==============================] - 1s 4ms/step - loss: 1961528.6250 - mae: 1028.5619 - mape: 140.8471 - val_loss: 1886335.1250 - val_mae: 1016.3098 - val_mape: 146.9175\n",
      "Epoch 8/150\n",
      "214/214 [==============================] - 1s 5ms/step - loss: 1956707.2500 - mae: 1029.3052 - mape: 140.2544 - val_loss: 1872156.6250 - val_mae: 1005.7542 - val_mape: 138.2782\n",
      "Epoch 9/150\n",
      "214/214 [==============================] - 1s 5ms/step - loss: 1948877.7500 - mae: 1025.9531 - mape: 137.8041 - val_loss: 1870478.6250 - val_mae: 1000.2042 - val_mape: 132.1422\n",
      "Epoch 10/150\n",
      "214/214 [==============================] - 1s 5ms/step - loss: 1943066.8750 - mae: 1023.6652 - mape: 135.2289 - val_loss: 1869267.2500 - val_mae: 1012.7440 - val_mape: 143.3765\n",
      "Epoch 11/150\n",
      "214/214 [==============================] - 1s 5ms/step - loss: 1934963.5000 - mae: 1021.1742 - mape: 133.7477 - val_loss: 1850680.1250 - val_mae: 1003.0142 - val_mape: 137.2950\n",
      "Epoch 12/150\n",
      "214/214 [==============================] - 1s 5ms/step - loss: 1925155.8750 - mae: 1019.7386 - mape: 131.4869 - val_loss: 1844130.7500 - val_mae: 1001.8036 - val_mape: 136.0500\n",
      "Epoch 13/150\n",
      "214/214 [==============================] - 1s 5ms/step - loss: 1921102.8750 - mae: 1019.0030 - mape: 130.6762 - val_loss: 1838141.2500 - val_mae: 988.7258 - val_mape: 124.1672\n",
      "Epoch 14/150\n",
      "214/214 [==============================] - 1s 4ms/step - loss: 1904405.3750 - mae: 1013.1475 - mape: 128.4163 - val_loss: 1837079.0000 - val_mae: 984.9733 - val_mape: 119.8649\n",
      "Epoch 15/150\n",
      "214/214 [==============================] - 1s 4ms/step - loss: 1898597.6250 - mae: 1010.8604 - mape: 124.9467 - val_loss: 1815795.5000 - val_mae: 989.1697 - val_mape: 126.6345\n",
      "Epoch 16/150\n",
      "214/214 [==============================] - 1s 4ms/step - loss: 1886690.0000 - mae: 1007.2158 - mape: 123.5912 - val_loss: 1832722.8750 - val_mae: 978.5476 - val_mape: 112.8505\n",
      "Epoch 17/150\n",
      "214/214 [==============================] - 1s 4ms/step - loss: 1883321.6250 - mae: 1004.6605 - mape: 120.2606 - val_loss: 1804496.7500 - val_mae: 989.7887 - val_mape: 125.1524\n",
      "Epoch 18/150\n",
      "214/214 [==============================] - 1s 4ms/step - loss: 1868445.5000 - mae: 1001.6765 - mape: 119.0846 - val_loss: 1799081.1250 - val_mae: 972.8362 - val_mape: 112.7684\n",
      "Epoch 19/150\n",
      "214/214 [==============================] - 1s 4ms/step - loss: 1861879.8750 - mae: 999.6346 - mape: 116.3465 - val_loss: 1795546.1250 - val_mae: 969.7026 - val_mape: 110.0295\n",
      "Epoch 20/150\n",
      "214/214 [==============================] - 1s 4ms/step - loss: 1856189.1250 - mae: 997.2117 - mape: 114.5890 - val_loss: 1780854.0000 - val_mae: 970.2418 - val_mape: 111.2308\n",
      "Epoch 21/150\n",
      "214/214 [==============================] - 1s 4ms/step - loss: 1850910.2500 - mae: 997.6424 - mape: 113.4895 - val_loss: 1775867.6250 - val_mae: 976.8345 - val_mape: 114.6858\n",
      "Epoch 22/150\n",
      "214/214 [==============================] - 1s 4ms/step - loss: 1840031.7500 - mae: 993.0838 - mape: 111.3752 - val_loss: 1768977.8750 - val_mae: 970.2242 - val_mape: 110.1684\n",
      "Epoch 23/150\n",
      "214/214 [==============================] - 1s 4ms/step - loss: 1832471.8750 - mae: 989.8420 - mape: 109.4087 - val_loss: 1769041.5000 - val_mae: 976.7245 - val_mape: 112.5640\n",
      "Epoch 24/150\n",
      "214/214 [==============================] - 1s 4ms/step - loss: 1828566.8750 - mae: 989.5782 - mape: 108.1994 - val_loss: 1760560.6250 - val_mae: 967.0969 - val_mape: 106.8366\n",
      "Epoch 25/150\n",
      "214/214 [==============================] - 1s 4ms/step - loss: 1826481.3750 - mae: 987.6638 - mape: 106.2100 - val_loss: 1758427.2500 - val_mae: 966.6837 - val_mape: 106.0759\n",
      "Epoch 26/150\n",
      "214/214 [==============================] - 1s 4ms/step - loss: 1817383.7500 - mae: 986.7791 - mape: 106.4058 - val_loss: 1753861.8750 - val_mae: 970.4191 - val_mape: 108.2040\n",
      "Epoch 27/150\n",
      "214/214 [==============================] - 1s 4ms/step - loss: 1808103.8750 - mae: 982.7083 - mape: 104.2679 - val_loss: 1759159.8750 - val_mae: 979.3875 - val_mape: 110.7257\n",
      "Epoch 28/150\n",
      "214/214 [==============================] - 1s 4ms/step - loss: 1803490.3750 - mae: 982.6857 - mape: 103.3936 - val_loss: 1745753.7500 - val_mae: 953.6495 - val_mape: 97.5086\n",
      "Epoch 29/150\n",
      "214/214 [==============================] - 1s 4ms/step - loss: 1789607.2500 - mae: 978.2856 - mape: 101.6586 - val_loss: 1759988.7500 - val_mae: 947.5923 - val_mape: 90.9367\n",
      "Epoch 30/150\n",
      "214/214 [==============================] - 1s 4ms/step - loss: 1789148.6250 - mae: 975.6502 - mape: 99.1958 - val_loss: 1736884.0000 - val_mae: 947.8494 - val_mape: 93.2332\n",
      "Epoch 31/150\n",
      "214/214 [==============================] - 1s 4ms/step - loss: 1775391.7500 - mae: 973.1926 - mape: 99.0076 - val_loss: 1723162.7500 - val_mae: 948.8079 - val_mape: 94.2255\n",
      "Epoch 32/150\n",
      "214/214 [==============================] - 1s 4ms/step - loss: 1763068.0000 - mae: 968.4108 - mape: 97.5682 - val_loss: 1720985.5000 - val_mae: 945.8976 - val_mape: 91.9680\n",
      "Epoch 33/150\n",
      "214/214 [==============================] - 1s 4ms/step - loss: 1756453.0000 - mae: 962.9884 - mape: 95.2827 - val_loss: 1708306.6250 - val_mae: 959.1035 - val_mape: 100.1240\n",
      "Epoch 34/150\n",
      "214/214 [==============================] - 1s 4ms/step - loss: 1740403.5000 - mae: 961.6550 - mape: 95.4589 - val_loss: 1704196.2500 - val_mae: 937.7896 - val_mape: 89.1392\n",
      "Epoch 35/150\n",
      "214/214 [==============================] - 1s 4ms/step - loss: 1724448.1250 - mae: 956.0636 - mape: 93.3555 - val_loss: 1706389.8750 - val_mae: 933.2831 - val_mape: 86.5332\n",
      "Epoch 36/150\n",
      "214/214 [==============================] - 1s 4ms/step - loss: 1708654.5000 - mae: 947.8749 - mape: 91.7966 - val_loss: 1708746.1250 - val_mae: 968.1654 - val_mape: 104.6452\n",
      "Epoch 37/150\n",
      "214/214 [==============================] - 1s 6ms/step - loss: 1702614.7500 - mae: 947.9270 - mape: 91.8185 - val_loss: 1655453.3750 - val_mae: 937.5291 - val_mape: 94.1154\n",
      "Epoch 38/150\n",
      "214/214 [==============================] - 1s 5ms/step - loss: 1672059.3750 - mae: 935.8594 - mape: 89.2358 - val_loss: 1634350.7500 - val_mae: 922.8004 - val_mape: 89.1116\n",
      "Epoch 39/150\n",
      "214/214 [==============================] - 1s 5ms/step - loss: 1664767.1250 - mae: 931.7328 - mape: 88.0094 - val_loss: 1622600.2500 - val_mae: 919.2336 - val_mape: 88.3154\n",
      "Epoch 40/150\n",
      "214/214 [==============================] - 1s 5ms/step - loss: 1649549.1250 - mae: 925.8135 - mape: 86.6611 - val_loss: 1609365.3750 - val_mae: 917.9108 - val_mape: 88.3010\n",
      "Epoch 41/150\n",
      "214/214 [==============================] - 1s 4ms/step - loss: 1635734.8750 - mae: 920.8038 - mape: 85.3962 - val_loss: 1613597.0000 - val_mae: 928.3578 - val_mape: 91.7395\n",
      "Epoch 42/150\n",
      "214/214 [==============================] - 1s 4ms/step - loss: 1623399.8750 - mae: 917.6054 - mape: 84.9012 - val_loss: 1604015.8750 - val_mae: 907.2256 - val_mape: 83.3286\n",
      "Epoch 43/150\n",
      "214/214 [==============================] - 1s 4ms/step - loss: 1607721.8750 - mae: 909.6725 - mape: 83.2998 - val_loss: 1583966.6250 - val_mae: 893.6939 - val_mape: 79.2659\n",
      "Epoch 44/150\n"
     ]
    },
    {
     "name": "stdout",
     "output_type": "stream",
     "text": [
      "214/214 [==============================] - 1s 4ms/step - loss: 1593958.0000 - mae: 903.0630 - mape: 81.2222 - val_loss: 1558313.5000 - val_mae: 892.7018 - val_mape: 81.7976\n",
      "Epoch 45/150\n",
      "214/214 [==============================] - 1s 4ms/step - loss: 1582524.1250 - mae: 897.9843 - mape: 80.1554 - val_loss: 1546295.8750 - val_mae: 890.6340 - val_mape: 81.6507\n",
      "Epoch 46/150\n",
      "214/214 [==============================] - 1s 4ms/step - loss: 1575819.8750 - mae: 897.1036 - mape: 80.6918 - val_loss: 1567474.6250 - val_mae: 877.2816 - val_mape: 73.5498\n",
      "Epoch 47/150\n",
      "214/214 [==============================] - 1s 4ms/step - loss: 1553006.7500 - mae: 888.0677 - mape: 78.6699 - val_loss: 1530737.3750 - val_mae: 887.8309 - val_mape: 82.3694\n",
      "Epoch 48/150\n",
      "214/214 [==============================] - 1s 4ms/step - loss: 1542608.2500 - mae: 884.2234 - mape: 78.1235 - val_loss: 1508607.3750 - val_mae: 876.5566 - val_mape: 78.6484\n",
      "Epoch 49/150\n",
      "214/214 [==============================] - 1s 4ms/step - loss: 1528496.3750 - mae: 878.3519 - mape: 76.4839 - val_loss: 1500324.3750 - val_mae: 872.3356 - val_mape: 76.7007\n",
      "Epoch 50/150\n",
      "214/214 [==============================] - 1s 4ms/step - loss: 1515904.5000 - mae: 874.4742 - mape: 76.2032 - val_loss: 1483954.2500 - val_mae: 866.3032 - val_mape: 75.9424\n",
      "Epoch 51/150\n",
      "214/214 [==============================] - 1s 4ms/step - loss: 1496283.0000 - mae: 866.6046 - mape: 74.3600 - val_loss: 1475855.3750 - val_mae: 860.7823 - val_mape: 73.8754\n",
      "Epoch 52/150\n",
      "214/214 [==============================] - 1s 4ms/step - loss: 1493845.6250 - mae: 864.8412 - mape: 74.1537 - val_loss: 1466531.0000 - val_mae: 863.1319 - val_mape: 74.9921\n",
      "Epoch 53/150\n",
      "214/214 [==============================] - 1s 4ms/step - loss: 1482485.0000 - mae: 861.0761 - mape: 72.8938 - val_loss: 1461997.6250 - val_mae: 850.7186 - val_mape: 70.7122\n",
      "Epoch 54/150\n",
      "214/214 [==============================] - 1s 4ms/step - loss: 1479320.0000 - mae: 859.3292 - mape: 73.1567 - val_loss: 1456929.6250 - val_mae: 860.6904 - val_mape: 75.4829\n",
      "Epoch 55/150\n",
      "214/214 [==============================] - 1s 4ms/step - loss: 1454498.3750 - mae: 851.3495 - mape: 71.4332 - val_loss: 1435400.8750 - val_mae: 854.1119 - val_mape: 73.7243\n",
      "Epoch 56/150\n",
      "214/214 [==============================] - 1s 4ms/step - loss: 1449591.7500 - mae: 848.6983 - mape: 71.0738 - val_loss: 1447142.1250 - val_mae: 838.8809 - val_mape: 66.0976\n",
      "Epoch 57/150\n",
      "214/214 [==============================] - 1s 4ms/step - loss: 1445952.7500 - mae: 846.4390 - mape: 70.4058 - val_loss: 1417667.3750 - val_mae: 849.1450 - val_mape: 73.4189\n",
      "Epoch 58/150\n",
      "214/214 [==============================] - 1s 4ms/step - loss: 1425251.2500 - mae: 841.8849 - mape: 69.4037 - val_loss: 1416364.5000 - val_mae: 839.3472 - val_mape: 68.8342\n",
      "Epoch 59/150\n",
      "214/214 [==============================] - 1s 4ms/step - loss: 1421108.2500 - mae: 838.6769 - mape: 68.7943 - val_loss: 1446579.6250 - val_mae: 843.7340 - val_mape: 67.2506\n",
      "Epoch 60/150\n",
      "214/214 [==============================] - 1s 4ms/step - loss: 1420163.0000 - mae: 839.4985 - mape: 68.8317 - val_loss: 1397872.6250 - val_mae: 830.4545 - val_mape: 65.1329\n",
      "Epoch 61/150\n",
      "214/214 [==============================] - 1s 4ms/step - loss: 1419857.1250 - mae: 837.1845 - mape: 68.1701 - val_loss: 1388001.3750 - val_mae: 836.6523 - val_mape: 71.4548\n",
      "Epoch 62/150\n",
      "214/214 [==============================] - 1s 4ms/step - loss: 1399573.8750 - mae: 832.6704 - mape: 67.0710 - val_loss: 1379493.2500 - val_mae: 829.0200 - val_mape: 68.0288\n",
      "Epoch 63/150\n",
      "214/214 [==============================] - 1s 4ms/step - loss: 1391361.8750 - mae: 831.0471 - mape: 66.6531 - val_loss: 1385562.3750 - val_mae: 843.6426 - val_mape: 75.4723\n",
      "Epoch 64/150\n",
      "214/214 [==============================] - 1s 4ms/step - loss: 1379995.6250 - mae: 826.8624 - mape: 65.9381 - val_loss: 1370150.8750 - val_mae: 826.3940 - val_mape: 67.0270\n",
      "Epoch 65/150\n",
      "214/214 [==============================] - 1s 4ms/step - loss: 1385570.2500 - mae: 828.7239 - mape: 66.5275 - val_loss: 1381624.2500 - val_mae: 831.0416 - val_mape: 64.5356\n",
      "Epoch 66/150\n",
      "214/214 [==============================] - 1s 4ms/step - loss: 1372963.8750 - mae: 822.9854 - mape: 65.2148 - val_loss: 1387037.7500 - val_mae: 844.3823 - val_mape: 74.2224\n",
      "Epoch 67/150\n",
      "214/214 [==============================] - 1s 4ms/step - loss: 1366889.7500 - mae: 822.5865 - mape: 65.0396 - val_loss: 1362527.7500 - val_mae: 827.6876 - val_mape: 66.8863\n",
      "Epoch 68/150\n",
      "214/214 [==============================] - 1s 5ms/step - loss: 1377986.2500 - mae: 825.5867 - mape: 65.5719 - val_loss: 1359233.3750 - val_mae: 821.5340 - val_mape: 64.5658\n",
      "Epoch 69/150\n",
      "214/214 [==============================] - 1s 4ms/step - loss: 1367346.7500 - mae: 821.4872 - mape: 64.8292 - val_loss: 1355797.7500 - val_mae: 822.8336 - val_mape: 67.6362\n",
      "Epoch 70/150\n",
      "214/214 [==============================] - 1s 4ms/step - loss: 1353561.1250 - mae: 817.0090 - mape: 64.2651 - val_loss: 1363703.0000 - val_mae: 838.4884 - val_mape: 74.3712\n",
      "Epoch 71/150\n",
      "214/214 [==============================] - 1s 4ms/step - loss: 1359822.7500 - mae: 819.8912 - mape: 65.2910 - val_loss: 1359183.3750 - val_mae: 825.9063 - val_mape: 66.2205\n",
      "Epoch 72/150\n",
      "214/214 [==============================] - 1s 4ms/step - loss: 1344451.5000 - mae: 815.2431 - mape: 63.5656 - val_loss: 1341604.1250 - val_mae: 820.9523 - val_mape: 66.8347\n",
      "Epoch 73/150\n",
      "214/214 [==============================] - 1s 4ms/step - loss: 1355415.3750 - mae: 817.3010 - mape: 64.0484 - val_loss: 1388538.0000 - val_mae: 837.3863 - val_mape: 70.8224\n",
      "Epoch 74/150\n",
      "214/214 [==============================] - 1s 4ms/step - loss: 1352052.7500 - mae: 817.2789 - mape: 64.1892 - val_loss: 1349474.7500 - val_mae: 829.1173 - val_mape: 70.0781\n",
      "Epoch 75/150\n",
      "214/214 [==============================] - 1s 4ms/step - loss: 1342085.6250 - mae: 814.8627 - mape: 63.9287 - val_loss: 1338881.7500 - val_mae: 811.5287 - val_mape: 60.3886\n",
      "Epoch 76/150\n",
      "214/214 [==============================] - 1s 4ms/step - loss: 1342458.1250 - mae: 814.5425 - mape: 63.3712 - val_loss: 1334721.2500 - val_mae: 810.6484 - val_mape: 62.7638\n",
      "Epoch 77/150\n",
      "214/214 [==============================] - 1s 4ms/step - loss: 1337470.5000 - mae: 814.9031 - mape: 63.7822 - val_loss: 1350800.6250 - val_mae: 826.5641 - val_mape: 69.9549\n",
      "Epoch 78/150\n",
      "214/214 [==============================] - 1s 4ms/step - loss: 1437759.8750 - mae: 841.6561 - mape: 74.3780 - val_loss: 1328270.3750 - val_mae: 811.8149 - val_mape: 62.4865\n",
      "Epoch 79/150\n",
      "214/214 [==============================] - 1s 4ms/step - loss: 1330484.3750 - mae: 811.4454 - mape: 63.1153 - val_loss: 1327315.2500 - val_mae: 811.3179 - val_mape: 61.8166\n",
      "Epoch 80/150\n",
      "214/214 [==============================] - 1s 4ms/step - loss: 1324331.0000 - mae: 808.8051 - mape: 62.2821 - val_loss: 1336331.7500 - val_mae: 821.5629 - val_mape: 66.2897\n",
      "Epoch 81/150\n",
      "214/214 [==============================] - 1s 5ms/step - loss: 1322002.8750 - mae: 810.1331 - mape: 62.5323 - val_loss: 1322649.6250 - val_mae: 810.8582 - val_mape: 64.0208\n",
      "Epoch 82/150\n",
      "214/214 [==============================] - 1s 4ms/step - loss: 1321357.0000 - mae: 808.0487 - mape: 62.2171 - val_loss: 1321379.2500 - val_mae: 805.8596 - val_mape: 60.2344\n",
      "Epoch 83/150\n",
      "214/214 [==============================] - 1s 4ms/step - loss: 1320197.1250 - mae: 809.8077 - mape: 62.7974 - val_loss: 1319797.6250 - val_mae: 807.6663 - val_mape: 62.5671\n",
      "Epoch 84/150\n",
      "214/214 [==============================] - 1s 4ms/step - loss: 1314527.3750 - mae: 807.2870 - mape: 62.0775 - val_loss: 1316995.3750 - val_mae: 809.3431 - val_mape: 63.6249\n",
      "Epoch 85/150\n",
      "214/214 [==============================] - 1s 4ms/step - loss: 1317687.5000 - mae: 808.7341 - mape: 62.1929 - val_loss: 1314006.1250 - val_mae: 807.8175 - val_mape: 63.5548\n",
      "Epoch 86/150\n",
      "214/214 [==============================] - 1s 4ms/step - loss: 1311167.6250 - mae: 807.1944 - mape: 62.1572 - val_loss: 1315405.1250 - val_mae: 813.1246 - val_mape: 66.6882\n",
      "Epoch 87/150\n",
      "214/214 [==============================] - 1s 4ms/step - loss: 1317114.6250 - mae: 809.6284 - mape: 63.0907 - val_loss: 1318016.2500 - val_mae: 817.4161 - val_mape: 68.5714\n",
      "Epoch 88/150\n"
     ]
    },
    {
     "name": "stdout",
     "output_type": "stream",
     "text": [
      "214/214 [==============================] - 1s 4ms/step - loss: 1310403.8750 - mae: 806.5696 - mape: 62.1951 - val_loss: 1318532.6250 - val_mae: 809.9434 - val_mape: 62.6600\n",
      "Epoch 89/150\n",
      "214/214 [==============================] - 1s 4ms/step - loss: 1314307.6250 - mae: 808.2610 - mape: 62.7542 - val_loss: 1360433.5000 - val_mae: 839.9793 - val_mape: 72.1663\n",
      "Epoch 90/150\n",
      "214/214 [==============================] - 1s 4ms/step - loss: 1308250.7500 - mae: 806.3033 - mape: 61.9647 - val_loss: 1310059.6250 - val_mae: 812.1019 - val_mape: 66.1498\n",
      "Epoch 91/150\n",
      "214/214 [==============================] - 1s 4ms/step - loss: 1309229.6250 - mae: 806.1589 - mape: 62.3799 - val_loss: 1313707.8750 - val_mae: 812.4727 - val_mape: 63.4053\n",
      "Epoch 92/150\n",
      "214/214 [==============================] - 1s 4ms/step - loss: 1303672.7500 - mae: 804.9466 - mape: 61.5907 - val_loss: 1315904.7500 - val_mae: 802.7456 - val_mape: 59.0965\n",
      "Epoch 93/150\n",
      "214/214 [==============================] - 1s 4ms/step - loss: 1297758.0000 - mae: 802.9354 - mape: 61.8009 - val_loss: 1305308.7500 - val_mae: 800.0521 - val_mape: 59.2999\n",
      "Epoch 94/150\n",
      "214/214 [==============================] - 1s 4ms/step - loss: 1300316.2500 - mae: 804.4335 - mape: 61.6541 - val_loss: 1302008.2500 - val_mae: 806.1497 - val_mape: 63.6437\n",
      "Epoch 95/150\n",
      "214/214 [==============================] - 1s 4ms/step - loss: 1301656.2500 - mae: 805.7379 - mape: 61.9446 - val_loss: 1302883.3750 - val_mae: 803.9825 - val_mape: 63.5562\n",
      "Epoch 96/150\n",
      "214/214 [==============================] - 1s 4ms/step - loss: 1296021.5000 - mae: 803.0267 - mape: 61.6220 - val_loss: 1313311.3750 - val_mae: 814.3558 - val_mape: 64.0050\n",
      "Epoch 97/150\n",
      "214/214 [==============================] - 1s 4ms/step - loss: 1300688.7500 - mae: 804.6736 - mape: 62.0583 - val_loss: 1301416.6250 - val_mae: 811.2935 - val_mape: 69.0119\n",
      "Epoch 98/150\n",
      "214/214 [==============================] - 1s 4ms/step - loss: 1297451.0000 - mae: 805.0421 - mape: 61.9809 - val_loss: 1296818.1250 - val_mae: 803.2752 - val_mape: 63.0407\n",
      "Epoch 99/150\n",
      "214/214 [==============================] - 1s 4ms/step - loss: 1291670.2500 - mae: 801.8654 - mape: 61.4111 - val_loss: 1301856.5000 - val_mae: 800.9479 - val_mape: 60.9741\n",
      "Epoch 100/150\n",
      "214/214 [==============================] - 1s 4ms/step - loss: 1298337.5000 - mae: 804.7204 - mape: 62.7317 - val_loss: 1295901.3750 - val_mae: 798.7889 - val_mape: 58.8266\n",
      "Epoch 101/150\n",
      "214/214 [==============================] - 1s 4ms/step - loss: 1293664.3750 - mae: 803.3737 - mape: 62.0639 - val_loss: 1294944.3750 - val_mae: 799.3503 - val_mape: 59.2146\n",
      "Epoch 102/150\n",
      "214/214 [==============================] - 1s 4ms/step - loss: 1301132.1250 - mae: 804.8576 - mape: 61.7196 - val_loss: 1302993.2500 - val_mae: 815.7173 - val_mape: 70.0928\n",
      "Epoch 103/150\n",
      "214/214 [==============================] - 1s 4ms/step - loss: 1297957.1250 - mae: 805.4960 - mape: 62.5917 - val_loss: 1297224.8750 - val_mae: 805.4609 - val_mape: 61.1149\n",
      "Epoch 104/150\n",
      "214/214 [==============================] - 1s 4ms/step - loss: 1287950.7500 - mae: 802.8924 - mape: 61.6731 - val_loss: 1292486.5000 - val_mae: 797.7324 - val_mape: 59.0661\n",
      "Epoch 105/150\n",
      "214/214 [==============================] - 1s 4ms/step - loss: 1290315.8750 - mae: 802.0665 - mape: 61.8289 - val_loss: 1323712.5000 - val_mae: 807.1324 - val_mape: 60.7637\n",
      "Epoch 106/150\n",
      "214/214 [==============================] - 1s 4ms/step - loss: 1290315.0000 - mae: 802.4611 - mape: 61.5901 - val_loss: 1295223.8750 - val_mae: 806.2712 - val_mape: 64.2052\n",
      "Epoch 107/150\n",
      "214/214 [==============================] - 1s 4ms/step - loss: 1281190.3750 - mae: 799.6669 - mape: 61.3180 - val_loss: 1292844.7500 - val_mae: 805.1761 - val_mape: 66.4423\n",
      "Epoch 108/150\n",
      "214/214 [==============================] - 1s 4ms/step - loss: 1371007.3750 - mae: 823.8248 - mape: 69.0933 - val_loss: 1292365.3750 - val_mae: 797.1425 - val_mape: 58.8066\n",
      "Epoch 109/150\n",
      "214/214 [==============================] - 1s 4ms/step - loss: 1288490.0000 - mae: 801.5142 - mape: 61.4756 - val_loss: 1288142.6250 - val_mae: 800.3337 - val_mape: 63.6180\n",
      "Epoch 110/150\n",
      "214/214 [==============================] - 1s 4ms/step - loss: 1282066.3750 - mae: 800.8420 - mape: 61.8235 - val_loss: 1328095.3750 - val_mae: 829.5465 - val_mape: 71.6157\n",
      "Epoch 111/150\n",
      "214/214 [==============================] - 1s 4ms/step - loss: 1279100.6250 - mae: 801.0243 - mape: 61.6384 - val_loss: 1286226.8750 - val_mae: 797.9979 - val_mape: 61.6428\n",
      "Epoch 112/150\n",
      "214/214 [==============================] - 1s 4ms/step - loss: 1278238.1250 - mae: 799.5297 - mape: 61.2861 - val_loss: 1285752.3750 - val_mae: 798.7856 - val_mape: 62.0456\n",
      "Epoch 113/150\n",
      "214/214 [==============================] - 1s 4ms/step - loss: 1277275.0000 - mae: 800.3161 - mape: 61.6387 - val_loss: 1289885.3750 - val_mae: 804.0441 - val_mape: 63.4386\n",
      "Epoch 114/150\n",
      "214/214 [==============================] - 1s 4ms/step - loss: 1290489.3750 - mae: 804.5444 - mape: 61.9711 - val_loss: 1294197.6250 - val_mae: 802.1535 - val_mape: 62.5672\n",
      "Epoch 115/150\n",
      "214/214 [==============================] - 1s 4ms/step - loss: 1283281.5000 - mae: 801.4259 - mape: 61.7779 - val_loss: 1287029.1250 - val_mae: 798.7809 - val_mape: 61.0910\n",
      "Epoch 116/150\n",
      "214/214 [==============================] - 1s 4ms/step - loss: 1275431.0000 - mae: 798.2050 - mape: 61.1322 - val_loss: 1285837.5000 - val_mae: 801.2361 - val_mape: 63.1787\n",
      "Epoch 117/150\n",
      "214/214 [==============================] - 1s 4ms/step - loss: 1278385.6250 - mae: 800.2021 - mape: 61.5795 - val_loss: 1285025.0000 - val_mae: 799.5304 - val_mape: 63.8556\n",
      "Epoch 118/150\n",
      "214/214 [==============================] - 1s 4ms/step - loss: 1276542.7500 - mae: 800.6024 - mape: 61.7541 - val_loss: 1290790.2500 - val_mae: 803.9909 - val_mape: 60.7274\n",
      "Epoch 119/150\n",
      "214/214 [==============================] - 1s 4ms/step - loss: 1273651.7500 - mae: 797.9328 - mape: 61.4112 - val_loss: 1302348.8750 - val_mae: 799.3809 - val_mape: 60.0062\n",
      "Epoch 120/150\n",
      "214/214 [==============================] - 1s 4ms/step - loss: 1281287.8750 - mae: 801.7769 - mape: 62.0139 - val_loss: 1283570.5000 - val_mae: 796.9851 - val_mape: 60.2118\n",
      "Epoch 121/150\n",
      "214/214 [==============================] - 1s 4ms/step - loss: 1273511.1250 - mae: 800.1470 - mape: 61.9200 - val_loss: 1285475.3750 - val_mae: 795.4023 - val_mape: 59.8664\n",
      "Epoch 122/150\n",
      "214/214 [==============================] - 1s 4ms/step - loss: 1277793.1250 - mae: 799.5193 - mape: 61.5092 - val_loss: 1283389.3750 - val_mae: 799.2147 - val_mape: 63.5261\n",
      "Epoch 123/150\n",
      "214/214 [==============================] - 1s 4ms/step - loss: 1272143.2500 - mae: 799.1848 - mape: 61.6236 - val_loss: 1285274.7500 - val_mae: 802.5663 - val_mape: 63.6459\n",
      "Epoch 124/150\n",
      "214/214 [==============================] - 1s 4ms/step - loss: 1277080.2500 - mae: 800.5156 - mape: 61.8304 - val_loss: 1286288.0000 - val_mae: 796.1068 - val_mape: 56.8481\n",
      "Epoch 125/150\n",
      "214/214 [==============================] - 1s 4ms/step - loss: 1271939.6250 - mae: 798.5006 - mape: 61.6423 - val_loss: 1306386.0000 - val_mae: 814.9744 - val_mape: 61.9809\n",
      "Epoch 126/150\n",
      "214/214 [==============================] - 1s 4ms/step - loss: 1277064.8750 - mae: 800.8866 - mape: 62.0895 - val_loss: 1282382.5000 - val_mae: 798.5264 - val_mape: 60.6880\n",
      "Epoch 127/150\n",
      "214/214 [==============================] - 1s 4ms/step - loss: 1272894.8750 - mae: 798.9673 - mape: 61.0567 - val_loss: 1281527.5000 - val_mae: 801.4841 - val_mape: 64.7606\n",
      "Epoch 128/150\n",
      "214/214 [==============================] - 1s 4ms/step - loss: 1270920.3750 - mae: 797.6350 - mape: 61.0170 - val_loss: 1280563.7500 - val_mae: 800.4009 - val_mape: 64.7428\n",
      "Epoch 129/150\n",
      "214/214 [==============================] - 1s 4ms/step - loss: 1271803.7500 - mae: 800.3881 - mape: 62.0567 - val_loss: 1281447.1250 - val_mae: 795.2782 - val_mape: 57.7072\n",
      "Epoch 130/150\n",
      "214/214 [==============================] - 1s 4ms/step - loss: 1283375.6250 - mae: 803.2361 - mape: 62.2927 - val_loss: 1283479.0000 - val_mae: 793.7916 - val_mape: 58.1796\n",
      "Epoch 131/150\n",
      "214/214 [==============================] - 1s 4ms/step - loss: 1271829.6250 - mae: 799.9984 - mape: 61.8099 - val_loss: 1288814.7500 - val_mae: 807.0633 - val_mape: 65.6850\n"
     ]
    },
    {
     "name": "stdout",
     "output_type": "stream",
     "text": [
      "Epoch 132/150\n",
      "214/214 [==============================] - 1s 4ms/step - loss: 1271387.8750 - mae: 797.7219 - mape: 61.4296 - val_loss: 1280209.7500 - val_mae: 801.4390 - val_mape: 65.8478\n",
      "Epoch 133/150\n",
      "214/214 [==============================] - 1s 4ms/step - loss: 1272009.2500 - mae: 798.9743 - mape: 61.6019 - val_loss: 1297962.2500 - val_mae: 797.3473 - val_mape: 58.1275\n",
      "Epoch 134/150\n",
      "214/214 [==============================] - 1s 4ms/step - loss: 1267456.6250 - mae: 797.0294 - mape: 60.7052 - val_loss: 1282040.7500 - val_mae: 794.9214 - val_mape: 59.9630\n",
      "Epoch 135/150\n",
      "214/214 [==============================] - 1s 4ms/step - loss: 1269034.7500 - mae: 796.8900 - mape: 61.4002 - val_loss: 1297166.2500 - val_mae: 800.9142 - val_mape: 61.0346\n",
      "Epoch 136/150\n",
      "214/214 [==============================] - 1s 4ms/step - loss: 1279039.3750 - mae: 800.9427 - mape: 61.6241 - val_loss: 1277874.8750 - val_mae: 796.1680 - val_mape: 61.5470\n",
      "Epoch 137/150\n",
      "214/214 [==============================] - 1s 4ms/step - loss: 1273277.5000 - mae: 799.1224 - mape: 61.6980 - val_loss: 1280697.7500 - val_mae: 799.6765 - val_mape: 63.4718\n",
      "Epoch 138/150\n",
      "214/214 [==============================] - 1s 4ms/step - loss: 1268625.6250 - mae: 796.9679 - mape: 60.6396 - val_loss: 1282856.1250 - val_mae: 802.5770 - val_mape: 63.5641\n",
      "Epoch 139/150\n",
      "214/214 [==============================] - 1s 4ms/step - loss: 1268917.3750 - mae: 797.0398 - mape: 61.1329 - val_loss: 1279718.5000 - val_mae: 794.9415 - val_mape: 61.0598\n",
      "Epoch 140/150\n",
      "214/214 [==============================] - 1s 4ms/step - loss: 1269501.1250 - mae: 798.4593 - mape: 61.4592 - val_loss: 1293660.6250 - val_mae: 809.7850 - val_mape: 65.9851\n",
      "Epoch 141/150\n",
      "214/214 [==============================] - 1s 4ms/step - loss: 1266882.0000 - mae: 796.5565 - mape: 60.8884 - val_loss: 1276822.7500 - val_mae: 797.2540 - val_mape: 62.2535\n",
      "Epoch 142/150\n",
      "214/214 [==============================] - 1s 5ms/step - loss: 1269171.5000 - mae: 797.1167 - mape: 61.1372 - val_loss: 1276768.2500 - val_mae: 796.2935 - val_mape: 61.0088\n",
      "Epoch 143/150\n",
      "214/214 [==============================] - 1s 5ms/step - loss: 1264618.5000 - mae: 796.7337 - mape: 60.9947 - val_loss: 1278776.5000 - val_mae: 800.2189 - val_mape: 63.0251\n",
      "Epoch 144/150\n",
      "214/214 [==============================] - 1s 5ms/step - loss: 1268541.3750 - mae: 798.8944 - mape: 61.1784 - val_loss: 1273835.8750 - val_mae: 797.8867 - val_mape: 62.6263\n",
      "Epoch 145/150\n",
      "214/214 [==============================] - 1s 4ms/step - loss: 1273249.3750 - mae: 799.5732 - mape: 61.6595 - val_loss: 1278446.2500 - val_mae: 802.1464 - val_mape: 58.9019\n",
      "Epoch 146/150\n",
      "214/214 [==============================] - 1s 4ms/step - loss: 1272766.8750 - mae: 798.8818 - mape: 61.5789 - val_loss: 1273003.3750 - val_mae: 795.0477 - val_mape: 60.9954\n",
      "Epoch 147/150\n",
      "214/214 [==============================] - 1s 5ms/step - loss: 1267817.2500 - mae: 799.7715 - mape: 61.5902 - val_loss: 1322836.6250 - val_mae: 825.1873 - val_mape: 68.5179\n",
      "Epoch 148/150\n",
      "214/214 [==============================] - 1s 4ms/step - loss: 1265667.6250 - mae: 798.5040 - mape: 61.7543 - val_loss: 1298537.7500 - val_mae: 794.9577 - val_mape: 55.1780\n",
      "Epoch 149/150\n",
      "214/214 [==============================] - 1s 4ms/step - loss: 1266548.7500 - mae: 795.9269 - mape: 61.0260 - val_loss: 1270062.3750 - val_mae: 795.4340 - val_mape: 62.2420\n",
      "Epoch 150/150\n",
      "214/214 [==============================] - 1s 4ms/step - loss: 1262814.7500 - mae: 797.2799 - mape: 61.2843 - val_loss: 1264189.5000 - val_mae: 796.7229 - val_mape: 65.7521\n"
     ]
    }
   ],
   "source": [
    "model_history = model.fit(X_train, y_train, validation_data=(X_val, y_val), epochs=150)"
   ]
  },
  {
   "cell_type": "markdown",
   "id": "f1e2f4ae",
   "metadata": {},
   "source": [
    "### Evaluation"
   ]
  },
  {
   "cell_type": "code",
   "execution_count": 192,
   "id": "db4687d1",
   "metadata": {},
   "outputs": [
    {
     "name": "stdout",
     "output_type": "stream",
     "text": [
      "178/178 [==============================] - 0s 2ms/step\n",
      "5546.815 139.75238\n"
     ]
    },
    {
     "data": {
      "text/plain": [
       "array([[1761.5061],\n",
       "       [1365.1819],\n",
       "       [ 979.039 ],\n",
       "       ...,\n",
       "       [1829.6908],\n",
       "       [3384.603 ],\n",
       "       [1232.4662]], dtype=float32)"
      ]
     },
     "execution_count": 192,
     "metadata": {},
     "output_type": "execute_result"
    }
   ],
   "source": [
    "# getting predictions for the validation set\n",
    "prediction = model.predict(test_data)\n",
    "print(prediction.max(),prediction.min())\n",
    "prediction"
   ]
  },
  {
   "cell_type": "code",
   "execution_count": 193,
   "id": "755f5ccf",
   "metadata": {},
   "outputs": [],
   "source": [
    "### Visualization"
   ]
  },
  {
   "cell_type": "code",
   "execution_count": 194,
   "id": "305fde26",
   "metadata": {},
   "outputs": [],
   "source": [
    "def plots(model_history):\n",
    "  plt.plot(model_history.history['loss'])\n",
    "  plt.plot(model_history.history['val_loss'])\n",
    "  plt.title('model loss')\n",
    "  plt.ylabel('loss')\n",
    "  plt.xlabel('epoch')\n",
    "  plt.legend(['train', 'validation'], loc='upper left')\n",
    "  plt.show()\n",
    "\n",
    "  # summarize history for accuracy\n",
    "  plt.plot(model_history.history['mape'])\n",
    "  plt.plot(model_history.history['val_mape'])\n",
    "  plt.title('model mape')\n",
    "  plt.ylabel('mape')\n",
    "  plt.xlabel('epoch')\n",
    "  plt.legend(['train', 'validation'], loc='upper left')\n",
    "  plt.show()\n",
    "\n",
    "  # summarize history for accuracy\n",
    "  plt.plot(model_history.history['mae'])\n",
    "  plt.plot(model_history.history['val_mae'])\n",
    "  plt.title('model mae')\n",
    "  plt.ylabel('mae')\n",
    "  plt.xlabel('epoch')\n",
    "  plt.legend(['train', 'validation'], loc='upper left')\n",
    "  plt.show()\n"
   ]
  },
  {
   "cell_type": "code",
   "execution_count": 195,
   "id": "b07c71ec",
   "metadata": {},
   "outputs": [
    {
     "data": {
      "image/png": "[encoded data removed]",
      "text/plain": [
       "<Figure size 640x480 with 1 Axes>"
      ]
     },
     "metadata": {},
     "output_type": "display_data"
    },
    {
     "data": {
      "image/png": "[encoded data removed]",
      "text/plain": [
       "<Figure size 640x480 with 1 Axes>"
      ]
     },
     "metadata": {},
     "output_type": "display_data"
    },
    {
     "data": {
      "image/png": "[encoded data removed]",
      "text/plain": [
       "<Figure size 640x480 with 1 Axes>"
      ]
     },
     "metadata": {},
     "output_type": "display_data"
    }
   ],
   "source": [
    "plots(model_history)"
   ]
  },
  {
   "cell_type": "code",
   "execution_count": 197,
   "id": "f9e80854",
   "metadata": {},
   "outputs": [
    {
     "name": "stderr",
     "output_type": "stream",
     "text": [
      "C:\\Users\\Home\\AppData\\Local\\Temp\\ipykernel_26136\\4107708513.py:2: SettingWithCopyWarning: \n",
      "A value is trying to be set on a copy of a slice from a DataFrame.\n",
      "Try using .loc[row_indexer,col_indexer] = value instead\n",
      "\n",
      "See the caveats in the documentation: https://pandas.pydata.org/pandas-docs/stable/user_guide/indexing.html#returning-a-view-versus-a-copy\n",
      "  df_solution[\"Item_Outlet_Sales\"]=prediction\n"
     ]
    },
    {
     "data": {
      "text/html": [
       "<div>\n",
       "<style scoped>\n",
       "    .dataframe tbody tr th:only-of-type {\n",
       "        vertical-align: middle;\n",
       "    }\n",
       "\n",
       "    .dataframe tbody tr th {\n",
       "        vertical-align: top;\n",
       "    }\n",
       "\n",
       "    .dataframe thead th {\n",
       "        text-align: right;\n",
       "    }\n",
       "</style>\n",
       "<table border=\"1\" class=\"dataframe\">\n",
       "  <thead>\n",
       "    <tr style=\"text-align: right;\">\n",
       "      <th></th>\n",
       "      <th>Item_Identifier</th>\n",
       "      <th>Outlet_Identifier</th>\n",
       "      <th>Item_Outlet_Sales</th>\n",
       "    </tr>\n",
       "  </thead>\n",
       "  <tbody>\n",
       "    <tr>\n",
       "      <th>0</th>\n",
       "      <td>FDW58</td>\n",
       "      <td>OUT049</td>\n",
       "      <td>1761.506104</td>\n",
       "    </tr>\n",
       "    <tr>\n",
       "      <th>1</th>\n",
       "      <td>FDW14</td>\n",
       "      <td>OUT017</td>\n",
       "      <td>1365.181885</td>\n",
       "    </tr>\n",
       "    <tr>\n",
       "      <th>2</th>\n",
       "      <td>NCN55</td>\n",
       "      <td>OUT010</td>\n",
       "      <td>979.039001</td>\n",
       "    </tr>\n",
       "    <tr>\n",
       "      <th>3</th>\n",
       "      <td>FDQ58</td>\n",
       "      <td>OUT017</td>\n",
       "      <td>2460.002197</td>\n",
       "    </tr>\n",
       "    <tr>\n",
       "      <th>4</th>\n",
       "      <td>FDY38</td>\n",
       "      <td>OUT027</td>\n",
       "      <td>5034.041016</td>\n",
       "    </tr>\n",
       "    <tr>\n",
       "      <th>...</th>\n",
       "      <td>...</td>\n",
       "      <td>...</td>\n",
       "      <td>...</td>\n",
       "    </tr>\n",
       "    <tr>\n",
       "      <th>5676</th>\n",
       "      <td>FDB58</td>\n",
       "      <td>OUT046</td>\n",
       "      <td>2424.435791</td>\n",
       "    </tr>\n",
       "    <tr>\n",
       "      <th>5677</th>\n",
       "      <td>FDD47</td>\n",
       "      <td>OUT018</td>\n",
       "      <td>3147.625244</td>\n",
       "    </tr>\n",
       "    <tr>\n",
       "      <th>5678</th>\n",
       "      <td>NCO17</td>\n",
       "      <td>OUT045</td>\n",
       "      <td>1829.690796</td>\n",
       "    </tr>\n",
       "    <tr>\n",
       "      <th>5679</th>\n",
       "      <td>FDJ26</td>\n",
       "      <td>OUT017</td>\n",
       "      <td>3384.603027</td>\n",
       "    </tr>\n",
       "    <tr>\n",
       "      <th>5680</th>\n",
       "      <td>FDU37</td>\n",
       "      <td>OUT045</td>\n",
       "      <td>1232.466187</td>\n",
       "    </tr>\n",
       "  </tbody>\n",
       "</table>\n",
       "<p>5681 rows × 3 columns</p>\n",
       "</div>"
      ],
      "text/plain": [
       "     Item_Identifier Outlet_Identifier  Item_Outlet_Sales\n",
       "0              FDW58            OUT049        1761.506104\n",
       "1              FDW14            OUT017        1365.181885\n",
       "2              NCN55            OUT010         979.039001\n",
       "3              FDQ58            OUT017        2460.002197\n",
       "4              FDY38            OUT027        5034.041016\n",
       "...              ...               ...                ...\n",
       "5676           FDB58            OUT046        2424.435791\n",
       "5677           FDD47            OUT018        3147.625244\n",
       "5678           NCO17            OUT045        1829.690796\n",
       "5679           FDJ26            OUT017        3384.603027\n",
       "5680           FDU37            OUT045        1232.466187\n",
       "\n",
       "[5681 rows x 3 columns]"
      ]
     },
     "execution_count": 197,
     "metadata": {},
     "output_type": "execute_result"
    }
   ],
   "source": [
    "df_solution=test_data[['Item_Identifier','Outlet_Identifier']]\n",
    "df_solution[\"Item_Outlet_Sales\"]=prediction\n",
    "df_solution"
   ]
  },
  {
   "cell_type": "code",
   "execution_count": 198,
   "id": "e85b70cc",
   "metadata": {},
   "outputs": [],
   "source": [
    "df_solution.to_csv('solution.csv', index=False)"
   ]
  },
  {
   "cell_type": "code",
   "execution_count": null,
   "id": "27ff99bd",
   "metadata": {},
   "outputs": [],
   "source": []
  },
  {
   "cell_type": "code",
   "execution_count": null,
   "id": "7b6247ba",
   "metadata": {},
   "outputs": [],
   "source": []
  }
 ],
 "metadata": {
  "kernelspec": {
   "display_name": "Python [conda env:tf2] *",
   "language": "python",
   "name": "conda-env-tf2-py"
  },
  "language_info": {
   "codemirror_mode": {
    "name": "ipython",
    "version": 3
   },
   "file_extension": ".py",
   "mimetype": "text/x-python",
   "name": "python",
   "nbconvert_exporter": "python",
   "pygments_lexer": "ipython3",
   "version": "3.10.13"
  }
 },
 "nbformat": 4,
 "nbformat_minor": 5
}
